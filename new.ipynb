{
 "cells": [
  {
   "cell_type": "code",
   "execution_count": 1,
   "id": "5c909a41-81b7-469f-883c-f041d99842ac",
   "metadata": {},
   "outputs": [],
   "source": [
    "import pandas as pd\n",
    "import numpy as np\n",
    "import matplotlib.pyplot as plt\n",
    "import seaborn as sns"
   ]
  },
  {
   "cell_type": "code",
   "execution_count": 2,
   "id": "7a8369b3-0b5d-412c-beda-99dab311c3c5",
   "metadata": {},
   "outputs": [],
   "source": [
    "df=pd.read_csv('Online Retail.csv')"
   ]
  },
  {
   "cell_type": "code",
   "execution_count": 3,
   "id": "382eb010-d2bf-4832-8a31-ac33b84c1f52",
   "metadata": {},
   "outputs": [
    {
     "data": {
      "text/html": [
       "<div>\n",
       "<style scoped>\n",
       "    .dataframe tbody tr th:only-of-type {\n",
       "        vertical-align: middle;\n",
       "    }\n",
       "\n",
       "    .dataframe tbody tr th {\n",
       "        vertical-align: top;\n",
       "    }\n",
       "\n",
       "    .dataframe thead th {\n",
       "        text-align: right;\n",
       "    }\n",
       "</style>\n",
       "<table border=\"1\" class=\"dataframe\">\n",
       "  <thead>\n",
       "    <tr style=\"text-align: right;\">\n",
       "      <th></th>\n",
       "      <th>InvoiceNo</th>\n",
       "      <th>StockCode</th>\n",
       "      <th>Description</th>\n",
       "      <th>Quantity</th>\n",
       "      <th>InvoiceDate</th>\n",
       "      <th>UnitPrice</th>\n",
       "      <th>CustomerID</th>\n",
       "      <th>Country</th>\n",
       "    </tr>\n",
       "  </thead>\n",
       "  <tbody>\n",
       "    <tr>\n",
       "      <th>0</th>\n",
       "      <td>536365</td>\n",
       "      <td>85123A</td>\n",
       "      <td>WHITE HANGING HEART T-LIGHT HOLDER</td>\n",
       "      <td>6</td>\n",
       "      <td>01-12-2010 08:26</td>\n",
       "      <td>2.55</td>\n",
       "      <td>17850.0</td>\n",
       "      <td>United Kingdom</td>\n",
       "    </tr>\n",
       "    <tr>\n",
       "      <th>1</th>\n",
       "      <td>536365</td>\n",
       "      <td>71053</td>\n",
       "      <td>WHITE METAL LANTERN</td>\n",
       "      <td>6</td>\n",
       "      <td>01-12-2010 08:26</td>\n",
       "      <td>3.39</td>\n",
       "      <td>17850.0</td>\n",
       "      <td>United Kingdom</td>\n",
       "    </tr>\n",
       "    <tr>\n",
       "      <th>2</th>\n",
       "      <td>536365</td>\n",
       "      <td>84406B</td>\n",
       "      <td>CREAM CUPID HEARTS COAT HANGER</td>\n",
       "      <td>8</td>\n",
       "      <td>01-12-2010 08:26</td>\n",
       "      <td>2.75</td>\n",
       "      <td>17850.0</td>\n",
       "      <td>United Kingdom</td>\n",
       "    </tr>\n",
       "    <tr>\n",
       "      <th>3</th>\n",
       "      <td>536365</td>\n",
       "      <td>84029G</td>\n",
       "      <td>KNITTED UNION FLAG HOT WATER BOTTLE</td>\n",
       "      <td>6</td>\n",
       "      <td>01-12-2010 08:26</td>\n",
       "      <td>3.39</td>\n",
       "      <td>17850.0</td>\n",
       "      <td>United Kingdom</td>\n",
       "    </tr>\n",
       "    <tr>\n",
       "      <th>4</th>\n",
       "      <td>536365</td>\n",
       "      <td>84029E</td>\n",
       "      <td>RED WOOLLY HOTTIE WHITE HEART.</td>\n",
       "      <td>6</td>\n",
       "      <td>01-12-2010 08:26</td>\n",
       "      <td>3.39</td>\n",
       "      <td>17850.0</td>\n",
       "      <td>United Kingdom</td>\n",
       "    </tr>\n",
       "  </tbody>\n",
       "</table>\n",
       "</div>"
      ],
      "text/plain": [
       "  InvoiceNo StockCode                          Description  Quantity  \\\n",
       "0    536365    85123A   WHITE HANGING HEART T-LIGHT HOLDER         6   \n",
       "1    536365     71053                  WHITE METAL LANTERN         6   \n",
       "2    536365    84406B       CREAM CUPID HEARTS COAT HANGER         8   \n",
       "3    536365    84029G  KNITTED UNION FLAG HOT WATER BOTTLE         6   \n",
       "4    536365    84029E       RED WOOLLY HOTTIE WHITE HEART.         6   \n",
       "\n",
       "        InvoiceDate  UnitPrice  CustomerID         Country  \n",
       "0  01-12-2010 08:26       2.55     17850.0  United Kingdom  \n",
       "1  01-12-2010 08:26       3.39     17850.0  United Kingdom  \n",
       "2  01-12-2010 08:26       2.75     17850.0  United Kingdom  \n",
       "3  01-12-2010 08:26       3.39     17850.0  United Kingdom  \n",
       "4  01-12-2010 08:26       3.39     17850.0  United Kingdom  "
      ]
     },
     "execution_count": 3,
     "metadata": {},
     "output_type": "execute_result"
    }
   ],
   "source": [
    "df.head(5)"
   ]
  },
  {
   "cell_type": "code",
   "execution_count": 4,
   "id": "0e4d5538-2c7c-43f8-a166-3932c9c8182d",
   "metadata": {},
   "outputs": [
    {
     "name": "stdout",
     "output_type": "stream",
     "text": [
      "InvoiceNo           0\n",
      "StockCode           0\n",
      "Description      1454\n",
      "Quantity            0\n",
      "InvoiceDate         0\n",
      "UnitPrice           0\n",
      "CustomerID     135080\n",
      "Country             0\n",
      "dtype: int64\n"
     ]
    }
   ],
   "source": [
    "print(df.isnull().sum())\n"
   ]
  },
  {
   "cell_type": "code",
   "execution_count": 6,
   "id": "bb59e8cd-52b4-41c4-a897-284dbd2d823c",
   "metadata": {},
   "outputs": [],
   "source": [
    "df['InvoiceDate'] = pd.to_datetime(df['InvoiceDate'], errors='coerce', dayfirst=True)\n",
    "df['Quantity'] = pd.to_numeric(df['Quantity'], errors='coerce')\n",
    "df['UnitPrice'] = pd.to_numeric(df['UnitPrice'], errors='coerce')"
   ]
  },
  {
   "cell_type": "code",
   "execution_count": 8,
   "id": "62e9afb1-3561-4fb6-b854-383cf5c5205e",
   "metadata": {},
   "outputs": [
    {
     "data": {
      "text/plain": [
       "InvoiceNo              object\n",
       "StockCode              object\n",
       "Description            object\n",
       "Quantity                int64\n",
       "InvoiceDate    datetime64[ns]\n",
       "UnitPrice             float64\n",
       "CustomerID            float64\n",
       "Country                object\n",
       "dtype: object"
      ]
     },
     "execution_count": 8,
     "metadata": {},
     "output_type": "execute_result"
    }
   ],
   "source": [
    "df.dtypes\n"
   ]
  },
  {
   "cell_type": "code",
   "execution_count": 11,
   "id": "90facbf6-a556-48d5-afa4-3a33c6cd6429",
   "metadata": {},
   "outputs": [],
   "source": [
    "df['UnitPrice'] = pd.to_numeric(df['UnitPrice'], errors='coerce')"
   ]
  },
  {
   "cell_type": "code",
   "execution_count": 12,
   "id": "82e73d00-8601-4e6b-8dd7-c9816e290c4b",
   "metadata": {},
   "outputs": [
    {
     "data": {
      "text/plain": [
       "InvoiceNo              object\n",
       "StockCode              object\n",
       "Description            object\n",
       "Quantity                int64\n",
       "InvoiceDate    datetime64[ns]\n",
       "UnitPrice             float64\n",
       "CustomerID            float64\n",
       "Country                object\n",
       "dtype: object"
      ]
     },
     "execution_count": 12,
     "metadata": {},
     "output_type": "execute_result"
    }
   ],
   "source": [
    "df.dtypes"
   ]
  },
  {
   "cell_type": "code",
   "execution_count": 17,
   "id": "0ec2251a-a136-4dad-a062-e27598d647f0",
   "metadata": {},
   "outputs": [
    {
     "name": "stdout",
     "output_type": "stream",
     "text": [
      "0\n"
     ]
    }
   ],
   "source": [
    "# Check for duplicate rows\n",
    "print(df.duplicated().sum())\n"
   ]
  },
  {
   "cell_type": "code",
   "execution_count": 14,
   "id": "e76a59e3-909f-422f-a544-b7085de0771a",
   "metadata": {},
   "outputs": [],
   "source": [
    "# Remove duplicate rows\n",
    "df = df.drop_duplicates()\n"
   ]
  },
  {
   "cell_type": "code",
   "execution_count": 18,
   "id": "cd18fe89-c427-4971-b087-4a4a8230c6fa",
   "metadata": {},
   "outputs": [
    {
     "data": {
      "text/plain": [
       "4293128"
      ]
     },
     "execution_count": 18,
     "metadata": {},
     "output_type": "execute_result"
    }
   ],
   "source": [
    "df.size"
   ]
  },
  {
   "cell_type": "code",
   "execution_count": 20,
   "id": "a0afaacd-122d-4356-ae64-020708509c91",
   "metadata": {},
   "outputs": [
    {
     "data": {
      "text/plain": [
       "InvoiceNo           0\n",
       "StockCode           0\n",
       "Description      1454\n",
       "Quantity            0\n",
       "InvoiceDate         0\n",
       "UnitPrice           0\n",
       "CustomerID     135037\n",
       "Country             0\n",
       "dtype: int64"
      ]
     },
     "execution_count": 20,
     "metadata": {},
     "output_type": "execute_result"
    }
   ],
   "source": [
    "df.isnull().sum()"
   ]
  },
  {
   "cell_type": "code",
   "execution_count": 21,
   "id": "34a52e76-d1e2-4612-86d7-85b1753132c2",
   "metadata": {},
   "outputs": [
    {
     "name": "stdout",
     "output_type": "stream",
     "text": [
      "   CustomerID  TotalSpend  Frequency  Recency  AvgOrderValue\n",
      "0     12346.0        0.00          2     5056       0.000000\n",
      "1     12347.0     4310.00          7     4732     615.714286\n",
      "2     12348.0     1797.24          4     4805     449.310000\n",
      "3     12349.0     1757.55          1     4749    1757.550000\n",
      "4     12350.0      334.40          1     5040     334.400000\n"
     ]
    },
    {
     "name": "stderr",
     "output_type": "stream",
     "text": [
      "C:\\Users\\HP\\AppData\\Local\\Temp\\ipykernel_84308\\422632872.py:2: SettingWithCopyWarning: \n",
      "A value is trying to be set on a copy of a slice from a DataFrame.\n",
      "Try using .loc[row_indexer,col_indexer] = value instead\n",
      "\n",
      "See the caveats in the documentation: https://pandas.pydata.org/pandas-docs/stable/user_guide/indexing.html#returning-a-view-versus-a-copy\n",
      "  df['TotalPurchase'] = df['Quantity'] * df['UnitPrice']\n"
     ]
    }
   ],
   "source": [
    "# Create new feature: Total Purchase (Quantity * UnitPrice)\n",
    "df['TotalPurchase'] = df['Quantity'] * df['UnitPrice']\n",
    "\n",
    "# Group by CustomerID and aggregate the data\n",
    "customer_df = df.groupby('CustomerID').agg(\n",
    "    TotalSpend=('TotalPurchase', 'sum'),\n",
    "    Frequency=('InvoiceNo', 'nunique'),\n",
    "    Recency=('InvoiceDate', 'max')\n",
    ").reset_index()\n",
    "\n",
    "# Calculate Recency in days (difference between current date and last purchase date)\n",
    "customer_df['Recency'] = (pd.to_datetime('today') - customer_df['Recency']).dt.days\n",
    "\n",
    "# Calculate Average Order Value (Total Spend / Frequency)\n",
    "customer_df['AvgOrderValue'] = customer_df['TotalSpend'] / customer_df['Frequency']\n",
    "\n",
    "\n"
   ]
  },
  {
   "cell_type": "code",
   "execution_count": 22,
   "id": "8e14a007-bff0-4f6c-8536-134973b20010",
   "metadata": {},
   "outputs": [
    {
     "data": {
      "text/html": [
       "<div>\n",
       "<style scoped>\n",
       "    .dataframe tbody tr th:only-of-type {\n",
       "        vertical-align: middle;\n",
       "    }\n",
       "\n",
       "    .dataframe tbody tr th {\n",
       "        vertical-align: top;\n",
       "    }\n",
       "\n",
       "    .dataframe thead th {\n",
       "        text-align: right;\n",
       "    }\n",
       "</style>\n",
       "<table border=\"1\" class=\"dataframe\">\n",
       "  <thead>\n",
       "    <tr style=\"text-align: right;\">\n",
       "      <th></th>\n",
       "      <th>InvoiceNo</th>\n",
       "      <th>StockCode</th>\n",
       "      <th>Description</th>\n",
       "      <th>Quantity</th>\n",
       "      <th>InvoiceDate</th>\n",
       "      <th>UnitPrice</th>\n",
       "      <th>CustomerID</th>\n",
       "      <th>Country</th>\n",
       "      <th>TotalPurchase</th>\n",
       "    </tr>\n",
       "  </thead>\n",
       "  <tbody>\n",
       "    <tr>\n",
       "      <th>0</th>\n",
       "      <td>536365</td>\n",
       "      <td>85123A</td>\n",
       "      <td>WHITE HANGING HEART T-LIGHT HOLDER</td>\n",
       "      <td>6</td>\n",
       "      <td>2010-12-01 08:26:00</td>\n",
       "      <td>2.55</td>\n",
       "      <td>17850.0</td>\n",
       "      <td>United Kingdom</td>\n",
       "      <td>15.30</td>\n",
       "    </tr>\n",
       "    <tr>\n",
       "      <th>1</th>\n",
       "      <td>536365</td>\n",
       "      <td>71053</td>\n",
       "      <td>WHITE METAL LANTERN</td>\n",
       "      <td>6</td>\n",
       "      <td>2010-12-01 08:26:00</td>\n",
       "      <td>3.39</td>\n",
       "      <td>17850.0</td>\n",
       "      <td>United Kingdom</td>\n",
       "      <td>20.34</td>\n",
       "    </tr>\n",
       "    <tr>\n",
       "      <th>2</th>\n",
       "      <td>536365</td>\n",
       "      <td>84406B</td>\n",
       "      <td>CREAM CUPID HEARTS COAT HANGER</td>\n",
       "      <td>8</td>\n",
       "      <td>2010-12-01 08:26:00</td>\n",
       "      <td>2.75</td>\n",
       "      <td>17850.0</td>\n",
       "      <td>United Kingdom</td>\n",
       "      <td>22.00</td>\n",
       "    </tr>\n",
       "  </tbody>\n",
       "</table>\n",
       "</div>"
      ],
      "text/plain": [
       "  InvoiceNo StockCode                         Description  Quantity  \\\n",
       "0    536365    85123A  WHITE HANGING HEART T-LIGHT HOLDER         6   \n",
       "1    536365     71053                 WHITE METAL LANTERN         6   \n",
       "2    536365    84406B      CREAM CUPID HEARTS COAT HANGER         8   \n",
       "\n",
       "          InvoiceDate  UnitPrice  CustomerID         Country  TotalPurchase  \n",
       "0 2010-12-01 08:26:00       2.55     17850.0  United Kingdom          15.30  \n",
       "1 2010-12-01 08:26:00       3.39     17850.0  United Kingdom          20.34  \n",
       "2 2010-12-01 08:26:00       2.75     17850.0  United Kingdom          22.00  "
      ]
     },
     "execution_count": 22,
     "metadata": {},
     "output_type": "execute_result"
    }
   ],
   "source": [
    "df.head(3)"
   ]
  },
  {
   "cell_type": "code",
   "execution_count": 27,
   "id": "6fb24fa9-371d-4e67-959d-1b27ff8fdc9e",
   "metadata": {},
   "outputs": [
    {
     "data": {
      "text/html": [
       "<div>\n",
       "<style scoped>\n",
       "    .dataframe tbody tr th:only-of-type {\n",
       "        vertical-align: middle;\n",
       "    }\n",
       "\n",
       "    .dataframe tbody tr th {\n",
       "        vertical-align: top;\n",
       "    }\n",
       "\n",
       "    .dataframe thead th {\n",
       "        text-align: right;\n",
       "    }\n",
       "</style>\n",
       "<table border=\"1\" class=\"dataframe\">\n",
       "  <thead>\n",
       "    <tr style=\"text-align: right;\">\n",
       "      <th></th>\n",
       "      <th>CustomerID</th>\n",
       "      <th>TotalSpend</th>\n",
       "      <th>Frequency</th>\n",
       "      <th>Recency</th>\n",
       "      <th>AvgOrderValue</th>\n",
       "    </tr>\n",
       "  </thead>\n",
       "  <tbody>\n",
       "    <tr>\n",
       "      <th>0</th>\n",
       "      <td>12346.0</td>\n",
       "      <td>0.00</td>\n",
       "      <td>2</td>\n",
       "      <td>5056</td>\n",
       "      <td>0.000000</td>\n",
       "    </tr>\n",
       "    <tr>\n",
       "      <th>1</th>\n",
       "      <td>12347.0</td>\n",
       "      <td>4310.00</td>\n",
       "      <td>7</td>\n",
       "      <td>4732</td>\n",
       "      <td>615.714286</td>\n",
       "    </tr>\n",
       "    <tr>\n",
       "      <th>2</th>\n",
       "      <td>12348.0</td>\n",
       "      <td>1797.24</td>\n",
       "      <td>4</td>\n",
       "      <td>4805</td>\n",
       "      <td>449.310000</td>\n",
       "    </tr>\n",
       "  </tbody>\n",
       "</table>\n",
       "</div>"
      ],
      "text/plain": [
       "   CustomerID  TotalSpend  Frequency  Recency  AvgOrderValue\n",
       "0     12346.0        0.00          2     5056       0.000000\n",
       "1     12347.0     4310.00          7     4732     615.714286\n",
       "2     12348.0     1797.24          4     4805     449.310000"
      ]
     },
     "execution_count": 27,
     "metadata": {},
     "output_type": "execute_result"
    }
   ],
   "source": [
    "customer_df.head(3)"
   ]
  },
  {
   "cell_type": "code",
   "execution_count": 26,
   "id": "b677e186-772f-4734-85cf-bd02a8e38f6a",
   "metadata": {},
   "outputs": [
    {
     "data": {
      "text/plain": [
       "21860"
      ]
     },
     "execution_count": 26,
     "metadata": {},
     "output_type": "execute_result"
    }
   ],
   "source": [
    "customer_df.size"
   ]
  },
  {
   "cell_type": "code",
   "execution_count": 28,
   "id": "e981a91c-0749-40a8-ba1f-b605122b0dec",
   "metadata": {},
   "outputs": [
    {
     "name": "stdout",
     "output_type": "stream",
     "text": [
      "CustomerID       0\n",
      "TotalSpend       0\n",
      "Frequency        0\n",
      "Recency          0\n",
      "AvgOrderValue    0\n",
      "dtype: int64\n"
     ]
    }
   ],
   "source": [
    "print(customer_df.isnull().sum())"
   ]
  },
  {
   "cell_type": "code",
   "execution_count": 29,
   "id": "4cb4492e-3f2d-4a13-b4a2-cbcea5a9a6f1",
   "metadata": {},
   "outputs": [
    {
     "name": "stdout",
     "output_type": "stream",
     "text": [
      "   CustomerID  TotalSpend  Frequency   Recency  AvgOrderValue\n",
      "0     12346.0   -0.230420  -0.329362  2.322988      -0.871620\n",
      "1     12347.0    0.294055   0.206102 -0.892539       0.834839\n",
      "2     12348.0   -0.011717  -0.115176 -0.168053       0.373647\n",
      "3     12349.0   -0.016547  -0.436455 -0.723823       3.999448\n",
      "4     12350.0   -0.189727  -0.436455  2.164196       0.055173\n"
     ]
    }
   ],
   "source": [
    "from sklearn.preprocessing import StandardScaler\n",
    "\n",
    "# Initialize the scaler\n",
    "scaler = StandardScaler()\n",
    "\n",
    "# Scale the numerical features\n",
    "customer_df[['TotalSpend', 'Frequency', 'Recency', 'AvgOrderValue']] = scaler.fit_transform(\n",
    "    customer_df[['TotalSpend', 'Frequency', 'Recency', 'AvgOrderValue']]\n",
    ")\n",
    "\n",
    "# Show the scaled data\n",
    "print(customer_df.head())\n"
   ]
  },
  {
   "cell_type": "code",
   "execution_count": 30,
   "id": "f82f2b80-090a-4e0c-a0c8-accdefe8d4c7",
   "metadata": {},
   "outputs": [
    {
     "name": "stdout",
     "output_type": "stream",
     "text": [
      "   CustomerID      PCA1      PCA2\n",
      "0     12346.0 -1.423867  1.056397\n",
      "1     12347.0  0.928462 -0.069530\n",
      "2     12348.0  0.132830  0.160539\n",
      "3     12349.0  1.606768  2.208071\n",
      "4     12350.0 -1.029310  1.585020\n"
     ]
    }
   ],
   "source": [
    "from sklearn.decomposition import PCA\n",
    "\n",
    "# Apply PCA for dimensionality reduction (reduce to 2 components)\n",
    "pca = PCA(n_components=2)\n",
    "customer_df[['PCA1', 'PCA2']] = pca.fit_transform(customer_df[['TotalSpend', 'Frequency', 'Recency', 'AvgOrderValue']])\n",
    "\n",
    "# Check the transformed data with reduced dimensions\n",
    "print(customer_df[['CustomerID', 'PCA1', 'PCA2']].head())\n"
   ]
  },
  {
   "cell_type": "code",
   "execution_count": 31,
   "id": "d0200335-d3e6-40cc-8966-79868e89793b",
   "metadata": {},
   "outputs": [
    {
     "name": "stdout",
     "output_type": "stream",
     "text": [
      "   CustomerID  TotalSpend  Frequency   Recency  AvgOrderValue      PCA1  \\\n",
      "0     12346.0   -0.230420  -0.329362  2.322988      -0.871620 -1.423867   \n",
      "1     12347.0    0.294055   0.206102 -0.892539       0.834839  0.928462   \n",
      "2     12348.0   -0.011717  -0.115176 -0.168053       0.373647  0.132830   \n",
      "4     12350.0   -0.189727  -0.436455  2.164196       0.055173 -1.029310   \n",
      "5     12352.0   -0.042362   0.634474 -0.555107      -0.482245  0.312139   \n",
      "\n",
      "       PCA2  \n",
      "0  1.056397  \n",
      "1 -0.069530  \n",
      "2  0.160539  \n",
      "4  1.585020  \n",
      "5 -0.890244  \n"
     ]
    }
   ],
   "source": [
    "from scipy import stats\n",
    "\n",
    "# Calculate Z-scores\n",
    "z_scores = stats.zscore(customer_df[['TotalSpend', 'Frequency', 'Recency', 'AvgOrderValue']])\n",
    "\n",
    "# Keep only rows with Z-scores between -3 and 3\n",
    "customer_df = customer_df[(z_scores < 3).all(axis=1)]\n",
    "\n",
    "# Show the data without outliers\n",
    "print(customer_df.head())\n"
   ]
  },
  {
   "cell_type": "code",
   "execution_count": 32,
   "id": "a106575c-4c93-4e0a-a7be-732e4a02f55b",
   "metadata": {},
   "outputs": [
    {
     "name": "stdout",
     "output_type": "stream",
     "text": [
      "   CustomerID  TotalSpend  Frequency   Recency  AvgOrderValue      PCA1  \\\n",
      "0     12346.0   -0.230420  -0.329362  2.322988      -0.871620 -1.423867   \n",
      "1     12347.0    0.294055   0.206102 -0.892539       0.834839  0.928462   \n",
      "2     12348.0   -0.011717  -0.115176 -0.168053       0.373647  0.132830   \n",
      "4     12350.0   -0.189727  -0.436455  2.164196       0.055173 -1.029310   \n",
      "5     12352.0   -0.042362   0.634474 -0.555107      -0.482245  0.312139   \n",
      "\n",
      "       PCA2  \n",
      "0  1.056397  \n",
      "1 -0.069530  \n",
      "2  0.160539  \n",
      "4  1.585020  \n",
      "5 -0.890244  \n"
     ]
    }
   ],
   "source": [
    "print(customer_df.head())\n"
   ]
  },
  {
   "cell_type": "code",
   "execution_count": 33,
   "id": "7fcec47c-4c14-4f42-b83f-e001172f9db3",
   "metadata": {},
   "outputs": [
    {
     "data": {
      "image/png": "[encoded data removed]",
      "text/plain": [
       "<Figure size 640x480 with 1 Axes>"
      ]
     },
     "metadata": {},
     "output_type": "display_data"
    }
   ],
   "source": [
    "from sklearn.cluster import KMeans\n",
    "import matplotlib.pyplot as plt\n",
    "\n",
    "# List to store the WCSS values for different K values\n",
    "wcss = []\n",
    "\n",
    "# Try different values of K (from 1 to 10)\n",
    "for k in range(1, 11):\n",
    "    kmeans = KMeans(n_clusters=k, init='k-means++', max_iter=300, n_init=10, random_state=0)\n",
    "    kmeans.fit(customer_df[['TotalSpend', 'Frequency', 'Recency', 'AvgOrderValue']])\n",
    "    wcss.append(kmeans.inertia_)\n",
    "\n",
    "# Plot the Elbow graph\n",
    "plt.plot(range(1, 11), wcss)\n",
    "plt.title('Elbow Method')\n",
    "plt.xlabel('Number of Clusters (K)')\n",
    "plt.ylabel('WCSS')\n",
    "plt.show()\n"
   ]
  },
  {
   "cell_type": "code",
   "execution_count": 34,
   "id": "47acf1b9-fea4-400d-b421-dd4ec49db40c",
   "metadata": {},
   "outputs": [
    {
     "name": "stdout",
     "output_type": "stream",
     "text": [
      "   CustomerID  TotalSpend  Frequency   Recency  AvgOrderValue      PCA1  \\\n",
      "0     12346.0   -0.230420  -0.329362  2.322988      -0.871620 -1.423867   \n",
      "1     12347.0    0.294055   0.206102 -0.892539       0.834839  0.928462   \n",
      "2     12348.0   -0.011717  -0.115176 -0.168053       0.373647  0.132830   \n",
      "4     12350.0   -0.189727  -0.436455  2.164196       0.055173 -1.029310   \n",
      "5     12352.0   -0.042362   0.634474 -0.555107      -0.482245  0.312139   \n",
      "\n",
      "       PCA2  Cluster  \n",
      "0  1.056397        4  \n",
      "1 -0.069530        2  \n",
      "2  0.160539        1  \n",
      "4  1.585020        4  \n",
      "5 -0.890244        3  \n"
     ]
    }
   ],
   "source": [
    "# Let's assume K=4 after using the Elbow Method or Silhouette Score\n",
    "kmeans = KMeans(n_clusters=5, init='k-means++', max_iter=300, n_init=10, random_state=0)\n",
    "\n",
    "# Fit the model\n",
    "kmeans.fit(customer_df[['TotalSpend', 'Frequency', 'Recency', 'AvgOrderValue']])\n",
    "\n",
    "# Assign the cluster labels to the customer dataframe\n",
    "customer_df['Cluster'] = kmeans.labels_\n",
    "\n",
    "# Show the first few rows with cluster labels\n",
    "print(customer_df.head())\n"
   ]
  },
  {
   "cell_type": "code",
   "execution_count": 35,
   "id": "08bc0ddc-619f-44f5-8a05-ea7ae2f1fdc6",
   "metadata": {},
   "outputs": [
    {
     "data": {
      "image/png": "[encoded data removed]",
      "text/plain": [
       "<Figure size 800x600 with 2 Axes>"
      ]
     },
     "metadata": {},
     "output_type": "display_data"
    }
   ],
   "source": [
    "# Use PCA for dimensionality reduction (if not already done)\n",
    "from sklearn.decomposition import PCA\n",
    "pca = PCA(n_components=2)\n",
    "customer_df[['PCA1', 'PCA2']] = pca.fit_transform(customer_df[['TotalSpend', 'Frequency', 'Recency', 'AvgOrderValue']])\n",
    "\n",
    "# Plot the clusters\n",
    "plt.figure(figsize=(8, 6))\n",
    "plt.scatter(customer_df['PCA1'], customer_df['PCA2'], c=customer_df['Cluster'], cmap='viridis')\n",
    "plt.title('Customer Segments')\n",
    "plt.xlabel('PCA Component 1')\n",
    "plt.ylabel('PCA Component 2')\n",
    "plt.colorbar(label='Cluster')\n",
    "plt.show()\n"
   ]
  },
  {
   "cell_type": "code",
   "execution_count": 36,
   "id": "c6b1eba2-51ff-426f-b804-23c9bf059b05",
   "metadata": {},
   "outputs": [
    {
     "name": "stdout",
     "output_type": "stream",
     "text": [
      "   TotalSpend  Frequency   Recency  AvgOrderValue\n",
      "0   -0.170409  -0.281038  0.679225      -0.318127\n",
      "1   -0.128008  -0.153921 -0.567733      -0.229591\n",
      "2    0.071619  -0.172992 -0.337945       1.114889\n",
      "3    0.346297   1.180493 -0.756960      -0.056447\n",
      "4   -0.188189  -0.382206  2.035975      -0.222338\n"
     ]
    }
   ],
   "source": [
    "# Check the centroids of each cluster\n",
    "cluster_centroids = pd.DataFrame(kmeans.cluster_centers_, columns=['TotalSpend', 'Frequency', 'Recency', 'AvgOrderValue'])\n",
    "print(cluster_centroids)\n"
   ]
  },
  {
   "cell_type": "code",
   "execution_count": 37,
   "id": "fc19fbd1-6545-424b-9995-ce0af41e03d2",
   "metadata": {},
   "outputs": [
    {
     "name": "stdout",
     "output_type": "stream",
     "text": [
      "Inertia: 1819.5116537013291\n"
     ]
    }
   ],
   "source": [
    "print(f\"Inertia: {kmeans.inertia_}\")\n"
   ]
  },
  {
   "cell_type": "code",
   "execution_count": 38,
   "id": "a603b76d-d243-4f74-adb6-bc4beaed2697",
   "metadata": {},
   "outputs": [
    {
     "name": "stdout",
     "output_type": "stream",
     "text": [
      "        TotalSpend                     Frequency                      \\\n",
      "              mean    median       std      mean    median       std   \n",
      "Cluster                                                                \n",
      "0        -0.170409 -0.188667  0.067317 -0.281038 -0.329362  0.198387   \n",
      "1        -0.127938 -0.152098  0.084794 -0.154073 -0.222269  0.257549   \n",
      "2         0.071352 -0.001622  0.292025 -0.173857 -0.222269  0.286725   \n",
      "3         0.345562  0.247177  0.355845  1.178927  0.955753  0.608082   \n",
      "4        -0.188189 -0.199831  0.061955 -0.382206 -0.436455  0.124000   \n",
      "\n",
      "          Recency                     AvgOrderValue                      \n",
      "             mean    median       std          mean    median       std  \n",
      "Cluster                                                                  \n",
      "0        0.679225  0.665602  0.366471     -0.318127 -0.369930  0.622161  \n",
      "1       -0.567761 -0.624578  0.256534     -0.229236 -0.276169  0.301597  \n",
      "2       -0.336656 -0.426089  0.481900      1.116311  0.932349  0.594445  \n",
      "3       -0.757166 -0.823068  0.176945     -0.056926 -0.135900  0.370356  \n",
      "4        2.035975  1.965707  0.443086     -0.222338 -0.345358  0.586285  \n"
     ]
    }
   ],
   "source": [
    "# Group data by the cluster labels\n",
    "cluster_profiles = customer_df.groupby('Cluster').agg({\n",
    "    'TotalSpend': ['mean', 'median', 'std'],\n",
    "    'Frequency': ['mean', 'median', 'std'],\n",
    "    'Recency': ['mean', 'median', 'std'],\n",
    "    'AvgOrderValue': ['mean', 'median', 'std']\n",
    "})\n",
    "print(cluster_profiles)\n"
   ]
  },
  {
   "cell_type": "code",
   "execution_count": 39,
   "id": "ef8784b0-e9de-4875-8306-eb368b2c84f9",
   "metadata": {},
   "outputs": [
    {
     "data": {
      "image/png": "[encoded data removed]",
      "text/plain": [
       "<Figure size 800x600 with 1 Axes>"
      ]
     },
     "metadata": {},
     "output_type": "display_data"
    }
   ],
   "source": [
    "import seaborn as sns\n",
    "import matplotlib.pyplot as plt\n",
    "\n",
    "plt.figure(figsize=(8,6))\n",
    "sns.boxplot(x='Cluster', y='TotalSpend', data=customer_df)\n",
    "plt.title('Total Spend Distribution by Cluster')\n",
    "plt.show()\n"
   ]
  },
  {
   "cell_type": "code",
   "execution_count": 41,
   "id": "ee2171a0-d3e4-4034-869d-886e39dd6f7c",
   "metadata": {},
   "outputs": [],
   "source": [
    "cluster_labels = {\n",
    "    0: 'High-Value Customers',\n",
    "    1: 'Low-Value Customers',\n",
    "    2: 'Frequent Shoppers',\n",
    "    3: 'Inactive Customers'\n",
    "}\n",
    "\n",
    "customer_df['Cluster_Label'] = customer_df['Cluster'].map(cluster_labels)\n"
   ]
  },
  {
   "cell_type": "code",
   "execution_count": 42,
   "id": "4366fbcb-fe06-46cc-82bf-1254558e6fc2",
   "metadata": {},
   "outputs": [
    {
     "data": {
      "text/html": [
       "<div>\n",
       "<style scoped>\n",
       "    .dataframe tbody tr th:only-of-type {\n",
       "        vertical-align: middle;\n",
       "    }\n",
       "\n",
       "    .dataframe tbody tr th {\n",
       "        vertical-align: top;\n",
       "    }\n",
       "\n",
       "    .dataframe thead th {\n",
       "        text-align: right;\n",
       "    }\n",
       "</style>\n",
       "<table border=\"1\" class=\"dataframe\">\n",
       "  <thead>\n",
       "    <tr style=\"text-align: right;\">\n",
       "      <th></th>\n",
       "      <th>CustomerID</th>\n",
       "      <th>TotalSpend</th>\n",
       "      <th>Frequency</th>\n",
       "      <th>Recency</th>\n",
       "      <th>AvgOrderValue</th>\n",
       "      <th>PCA1</th>\n",
       "      <th>PCA2</th>\n",
       "      <th>Cluster</th>\n",
       "      <th>Cluster_Label</th>\n",
       "    </tr>\n",
       "  </thead>\n",
       "  <tbody>\n",
       "    <tr>\n",
       "      <th>0</th>\n",
       "      <td>12346.0</td>\n",
       "      <td>-0.230420</td>\n",
       "      <td>-0.329362</td>\n",
       "      <td>2.322988</td>\n",
       "      <td>-0.871620</td>\n",
       "      <td>2.375625</td>\n",
       "      <td>0.509215</td>\n",
       "      <td>4</td>\n",
       "      <td>NaN</td>\n",
       "    </tr>\n",
       "    <tr>\n",
       "      <th>1</th>\n",
       "      <td>12347.0</td>\n",
       "      <td>0.294055</td>\n",
       "      <td>0.206102</td>\n",
       "      <td>-0.892539</td>\n",
       "      <td>0.834839</td>\n",
       "      <td>-1.069080</td>\n",
       "      <td>-0.849215</td>\n",
       "      <td>2</td>\n",
       "      <td>Frequent Shoppers</td>\n",
       "    </tr>\n",
       "    <tr>\n",
       "      <th>2</th>\n",
       "      <td>12348.0</td>\n",
       "      <td>-0.011717</td>\n",
       "      <td>-0.115176</td>\n",
       "      <td>-0.168053</td>\n",
       "      <td>0.373647</td>\n",
       "      <td>-0.217758</td>\n",
       "      <td>-0.440064</td>\n",
       "      <td>1</td>\n",
       "      <td>Low-Value Customers</td>\n",
       "    </tr>\n",
       "    <tr>\n",
       "      <th>4</th>\n",
       "      <td>12350.0</td>\n",
       "      <td>-0.189727</td>\n",
       "      <td>-0.436455</td>\n",
       "      <td>2.164196</td>\n",
       "      <td>0.055173</td>\n",
       "      <td>2.148194</td>\n",
       "      <td>-0.386852</td>\n",
       "      <td>4</td>\n",
       "      <td>NaN</td>\n",
       "    </tr>\n",
       "    <tr>\n",
       "      <th>5</th>\n",
       "      <td>12352.0</td>\n",
       "      <td>-0.042362</td>\n",
       "      <td>0.634474</td>\n",
       "      <td>-0.555107</td>\n",
       "      <td>-0.482245</td>\n",
       "      <td>-0.679661</td>\n",
       "      <td>0.451385</td>\n",
       "      <td>3</td>\n",
       "      <td>Inactive Customers</td>\n",
       "    </tr>\n",
       "    <tr>\n",
       "      <th>6</th>\n",
       "      <td>12353.0</td>\n",
       "      <td>-0.219589</td>\n",
       "      <td>-0.436455</td>\n",
       "      <td>1.112203</td>\n",
       "      <td>-0.624955</td>\n",
       "      <td>1.213710</td>\n",
       "      <td>0.413987</td>\n",
       "      <td>0</td>\n",
       "      <td>High-Value Customers</td>\n",
       "    </tr>\n",
       "    <tr>\n",
       "      <th>7</th>\n",
       "      <td>12354.0</td>\n",
       "      <td>-0.099070</td>\n",
       "      <td>-0.436455</td>\n",
       "      <td>1.390088</td>\n",
       "      <td>2.119948</td>\n",
       "      <td>1.179934</td>\n",
       "      <td>-2.331823</td>\n",
       "      <td>2</td>\n",
       "      <td>Frequent Shoppers</td>\n",
       "    </tr>\n",
       "  </tbody>\n",
       "</table>\n",
       "</div>"
      ],
      "text/plain": [
       "   CustomerID  TotalSpend  Frequency   Recency  AvgOrderValue      PCA1  \\\n",
       "0     12346.0   -0.230420  -0.329362  2.322988      -0.871620  2.375625   \n",
       "1     12347.0    0.294055   0.206102 -0.892539       0.834839 -1.069080   \n",
       "2     12348.0   -0.011717  -0.115176 -0.168053       0.373647 -0.217758   \n",
       "4     12350.0   -0.189727  -0.436455  2.164196       0.055173  2.148194   \n",
       "5     12352.0   -0.042362   0.634474 -0.555107      -0.482245 -0.679661   \n",
       "6     12353.0   -0.219589  -0.436455  1.112203      -0.624955  1.213710   \n",
       "7     12354.0   -0.099070  -0.436455  1.390088       2.119948  1.179934   \n",
       "\n",
       "       PCA2  Cluster         Cluster_Label  \n",
       "0  0.509215        4                   NaN  \n",
       "1 -0.849215        2     Frequent Shoppers  \n",
       "2 -0.440064        1   Low-Value Customers  \n",
       "4 -0.386852        4                   NaN  \n",
       "5  0.451385        3    Inactive Customers  \n",
       "6  0.413987        0  High-Value Customers  \n",
       "7 -2.331823        2     Frequent Shoppers  "
      ]
     },
     "execution_count": 42,
     "metadata": {},
     "output_type": "execute_result"
    }
   ],
   "source": [
    "customer_df.head(7)"
   ]
  },
  {
   "cell_type": "code",
   "execution_count": 47,
   "id": "0385bed7-a025-48e5-9894-9437bd6dc399",
   "metadata": {},
   "outputs": [
    {
     "data": {
      "text/plain": [
       "Cluster_Label\n",
       "Low-Value Customers     2109\n",
       "High-Value Customers     687\n",
       "Frequent Shoppers        438\n",
       "Inactive Customers       417\n",
       "Name: count, dtype: int64"
      ]
     },
     "execution_count": 47,
     "metadata": {},
     "output_type": "execute_result"
    }
   ],
   "source": [
    " customer_df['Cluster_Label'].value_counts()\n",
    "\n"
   ]
  },
  {
   "cell_type": "code",
   "execution_count": 49,
   "id": "9e1b12ff-0cbf-410d-92fa-5fe8646772c9",
   "metadata": {},
   "outputs": [
    {
     "data": {
      "text/plain": [
       "610"
      ]
     },
     "execution_count": 49,
     "metadata": {},
     "output_type": "execute_result"
    }
   ],
   "source": [
    " customer_df['Cluster_Label'].isnull().sum()"
   ]
  },
  {
   "cell_type": "code",
   "execution_count": 50,
   "id": "641a4c2f-1916-46dd-ad16-d9f1235a2673",
   "metadata": {},
   "outputs": [
    {
     "data": {
      "text/plain": [
       "['customer_segmentation_model.pkl']"
      ]
     },
     "execution_count": 50,
     "metadata": {},
     "output_type": "execute_result"
    }
   ],
   "source": [
    "import joblib\n",
    "\n",
    "# Assuming you used KMeans for clustering\n",
    "joblib.dump(kmeans, 'customer_segmentation_model.pkl')\n"
   ]
  },
  {
   "cell_type": "code",
   "execution_count": null,
   "id": "bdc33fe2-85df-4dde-86f3-33178ee0ef88",
   "metadata": {},
   "outputs": [],
   "source": []
  }
 ],
 "metadata": {
  "kernelspec": {
   "display_name": "Python 3 (ipykernel)",
   "language": "python",
   "name": "python3"
  },
  "language_info": {
   "codemirror_mode": {
    "name": "ipython",
    "version": 3
   },
   "file_extension": ".py",
   "mimetype": "text/x-python",
   "name": "python",
   "nbconvert_exporter": "python",
   "pygments_lexer": "ipython3",
   "version": "3.12.3"
  }
 },
 "nbformat": 4,
 "nbformat_minor": 5
}
